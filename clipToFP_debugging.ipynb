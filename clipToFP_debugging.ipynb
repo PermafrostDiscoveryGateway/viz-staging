{
 "cells": [
  {
   "cell_type": "code",
   "execution_count": 1,
   "metadata": {},
   "outputs": [],
   "source": [
    "import pdgstaging\n",
    "from pdgstaging import TileStager\n",
    "from pathlib import Path\n",
    "import pdgraster\n",
    "import geopandas as gpd\n",
    "\n",
    "from datetime import datetime\n",
    "import logging\n",
    "# import logging.config # commented out cause Robyn suggested that she uses diff approach for logging without parsl or ray\n",
    "# she uses logging.basicConfig() in script/notebook instead\n",
    "import argparse\n",
    "#import json\n",
    "\n",
    "#import config"
   ]
  },
  {
   "cell_type": "code",
   "execution_count": 2,
   "metadata": {},
   "outputs": [],
   "source": [
    "# LOGGING:\n",
    "\n",
    "#logging_config = '/home/jcohen/viz-staging/logging.json' # commented out cause Robyn suggested that she uses diff approach\n",
    "\n",
    "# def setup_logging(log_json_file): # commented out cause Robyn suggested that she uses diff approach\n",
    "#     \"\"\"\n",
    "#     Setup logging configuration\n",
    "#     \"\"\"\n",
    "#     with open(log_json_file, 'r') as f:\n",
    "#         logging_dict = json.load(f)\n",
    "#     logging.config.dictConfig(logging_dict)\n",
    "#     return logging_dict\n",
    "\n",
    "# logging_dict = setup_logging(logging_config)\n",
    "\n",
    "# russia subset processed in viz-workflow issue#19: check of clipping to footprint is working properly\n",
    "#input_shp = \"/home/jcohen/iwp_workflow_testing/input/russia_subset/WV02_20100720235408_1030010006ABA200_10JUL20235408-M1BS-500152191020_01_P002_u16rf3413_pansh.shp\"\n",
    "#footprint_filepath = \"/home/jcohen/iwp_workflow_testing/footprints/russia_subset/WV02_20100720235408_1030010006ABA200_10JUL20235408-M1BS-500152191020_01_P002_u16rf3413_pansh.shp\"\n",
    "\n",
    "logging.basicConfig(\n",
    "    level=logging.INFO,\n",
    "    format=\"%(asctime)s [%(levelname)s] %(message)s\",\n",
    "    handlers=[\n",
    "        logging.FileHandler(\"debug.log\"),\n",
    "        logging.StreamHandler()\n",
    "    ]\n",
    ")\n",
    "\n",
    "TileStager({\n",
    "  \"deduplicate_clip_to_footprint\": True,\n",
    "  \"dir_output\": \"/home/jcohen/viz-workflow/\", \n",
    "  \"dir_input\": \"/home/jcohen/iwp_workflow_testing/input/russia_subset/\", \n",
    "  \"ext_input\": \".shp\",\n",
    "  \"ext_footprints\": \".shp\",\n",
    "  \"dir_footprints\": \"/home/jcohen/iwp_workflow_testing/footprints/russia_subset/\", \n",
    "  \"dir_staged\": \"staged/\",\n",
    "  \"dir_geotiff\": \"geotiff/\", \n",
    "  \"dir_web_tiles\": \"web_tiles/\", \n",
    "  \"filename_staging_summary\": \"staging_summary.csv\",\n",
    "  \"filename_rasterization_events\": \"raster_events.csv\",\n",
    "  \"filename_rasters_summary\": \"raster_summary.csv\",\n",
    "  \"filename_config\": \"config\",\n",
    "  \"simplify_tolerance\": 0.1,\n",
    "  \"tms_id\": \"WGS1984Quad\",\n",
    "  \"z_range\": [\n",
    "    0,\n",
    "    15\n",
    "  ],\n",
    "  \"geometricError\": 57,\n",
    "  \"z_coord\": 0,\n",
    "  \"statistics\": [\n",
    "    {\n",
    "      \"name\": \"iwp_coverage\",\n",
    "      \"weight_by\": \"area\",\n",
    "      \"property\": \"area_per_pixel_area\",\n",
    "      \"aggregation_method\": \"sum\",\n",
    "      \"resampling_method\": \"average\",\n",
    "      \"val_range\": [\n",
    "        0,\n",
    "        1\n",
    "      ],\n",
    "      \"palette\": [\n",
    "        \"#66339952\",\n",
    "        \"#ffcc00\"\n",
    "      ],\n",
    "      \"nodata_val\": 0,\n",
    "      \"nodata_color\": \"#ffffff00\"\n",
    "    },\n",
    "  ],\n",
    "  \"deduplicate_at\": [\n",
    "    \"staging\"\n",
    "  ],\n",
    "  \"deduplicate_keep_rules\": [\n",
    "    [\n",
    "      \"Date\",\n",
    "      \"larger\"\n",
    "    ]\n",
    "  ],\n",
    "  \"deduplicate_method\": \"footprints\"\n",
    "}).stage_all()\n",
    "\n",
    "# logger = logging.getLogger(__name__)\n",
    "\n",
    "# start_time = datetime.now()"
   ]
  },
  {
   "attachments": {},
   "cell_type": "markdown",
   "metadata": {},
   "source": [
    "IMPORT DATA:"
   ]
  },
  {
   "cell_type": "code",
   "execution_count": 3,
   "metadata": {},
   "outputs": [],
   "source": [
    "# russia subset processed in viz-workflow issue#19: check of clipping to footprint is working properly\n",
    "# input_shp = \"/home/jcohen/iwp_workflow_testing/input/russia_subset/WV02_20100720235408_1030010006ABA200_10JUL20235408-M1BS-500152191020_01_P002_u16rf3413_pansh.shp\"\n",
    "# footprint_filepath = \"/home/jcohen/iwp_workflow_testing/footprints/russia_subset/WV02_20100720235408_1030010006ABA200_10JUL20235408-M1BS-500152191020_01_P002_u16rf3413_pansh.shp\""
   ]
  },
  {
   "attachments": {},
   "cell_type": "markdown",
   "metadata": {},
   "source": [
    "CONFIGURE STAGER AND MANAGERS"
   ]
  },
  {
   "cell_type": "code",
   "execution_count": 4,
   "metadata": {},
   "outputs": [],
   "source": [
    "# config = config.IWP_CONFIG\n",
    "# stager = pdgstaging.TileStager(config = config)\n",
    "# tile_manager = stager.tiles\n",
    "# config_manager = stager.config"
   ]
  },
  {
   "attachments": {},
   "cell_type": "markdown",
   "metadata": {},
   "source": [
    "Modify the stager.stage() approach in order to integrate logging."
   ]
  },
  {
   "cell_type": "code",
   "execution_count": null,
   "metadata": {},
   "outputs": [],
   "source": [
    "# def custom_stage(path, config, logging_dict = logging_dict): \n",
    "#     \"\"\"\n",
    "#     Stage files (step 1)\n",
    "#     \"\"\"\n",
    "#     import pdgstaging\n",
    "#     if logging_dict:\n",
    "#         import logging.config\n",
    "#         logging.config.dictConfig(logging_dict)\n",
    "#     stager = pdgstaging.TileStager(config)\n",
    "#     stager.stage(path)\n",
    "#     return True"
   ]
  },
  {
   "attachments": {},
   "cell_type": "markdown",
   "metadata": {},
   "source": [
    "STAGE THE INPUT SHP FILE"
   ]
  },
  {
   "cell_type": "code",
   "execution_count": 6,
   "metadata": {},
   "outputs": [],
   "source": [
    "#custom_stage(path = input_shp, config = config, logging_dict = logging_dict)\n",
    "# stager.stage(path = input_shp)\n",
    "# output files will have the staging_duplicated property"
   ]
  }
 ],
 "metadata": {
  "kernelspec": {
   "display_name": "arcade_layer",
   "language": "python",
   "name": "python3"
  },
  "language_info": {
   "codemirror_mode": {
    "name": "ipython",
    "version": 3
   },
   "file_extension": ".py",
   "mimetype": "text/x-python",
   "name": "python",
   "nbconvert_exporter": "python",
   "pygments_lexer": "ipython3",
   "version": "3.9.16"
  },
  "orig_nbformat": 4
 },
 "nbformat": 4,
 "nbformat_minor": 2
}

{
 "cells": [
  {
   "cell_type": "code",
   "execution_count": 1,
   "metadata": {},
   "outputs": [],
   "source": [
    "import pdgstaging\n",
    "from pdgstaging import TileStager\n",
    "from pathlib import Path\n",
    "import pdgraster\n",
    "import geopandas as gpd\n",
    "\n",
    "from datetime import datetime\n",
    "import logging\n",
    "import logging.config # commented out cause Robyn suggested that she uses diff approach for logging without parsl or ray\n",
    "# she uses logging.basicConfig() in script/notebook instead\n",
    "import argparse\n",
    "import json\n",
    "\n",
    "import config"
   ]
  },
  {
   "cell_type": "code",
   "execution_count": 2,
   "metadata": {},
   "outputs": [],
   "source": [
    "# LOGGING:\n",
    "\n",
    "logging_config = '/home/jcohen/viz-staging/logging.json' # commented out cause Robyn suggested that she uses diff approach\n",
    "\n",
    "def setup_logging(log_json_file): # commented out cause Robyn suggested that she uses diff approach\n",
    "    \"\"\"\n",
    "    Setup logging configuration\n",
    "    \"\"\"\n",
    "    with open(log_json_file, 'r') as f:\n",
    "        logging_dict = json.load(f)\n",
    "    logging.config.dictConfig(logging_dict)\n",
    "    return logging_dict\n",
    "\n",
    "logging_dict = setup_logging(logging_config)\n",
    "\n",
    "# from Robyn:\n",
    "# logging.basicConfig(\n",
    "#     level=logging.INFO,\n",
    "#     format=\"%(asctime)s [%(levelname)s] %(message)s\",\n",
    "#     handlers=[\n",
    "#         logging.FileHandler(\"debug.log\"),\n",
    "#         logging.StreamHandler()\n",
    "#     ]\n",
    "# )\n",
    "\n",
    "# TileStager({\n",
    "#   \"deduplicate_clip_to_footprint\": True,\n",
    "#   \"dir_output\": \"/home/jcohen/viz-workflow/\", \n",
    "#   \"dir_input\": \"/home/jcohen/iwp_workflow_testing/input/russia_subset/\", \n",
    "#   \"ext_input\": \".shp\",\n",
    "#   \"ext_footprints\": \".shp\",\n",
    "#   \"dir_footprints\": \"/home/jcohen/iwp_workflow_testing/footprints/russia_subset/\", \n",
    "#   \"dir_staged\": \"staged/\",\n",
    "#   \"dir_geotiff\": \"geotiff/\", \n",
    "#   \"dir_web_tiles\": \"web_tiles/\", \n",
    "#   \"filename_staging_summary\": \"staging_summary.csv\",\n",
    "#   \"filename_rasterization_events\": \"raster_events.csv\",\n",
    "#   \"filename_rasters_summary\": \"raster_summary.csv\",\n",
    "#   \"filename_config\": \"config\",\n",
    "#   \"simplify_tolerance\": 0.1,\n",
    "#   \"tms_id\": \"WGS1984Quad\",\n",
    "#   \"z_range\": [\n",
    "#     0,\n",
    "#     15\n",
    "#   ],\n",
    "#   \"geometricError\": 57,\n",
    "#   \"z_coord\": 0,\n",
    "#   \"statistics\": [\n",
    "#     {\n",
    "#       \"name\": \"iwp_coverage\",\n",
    "#       \"weight_by\": \"area\",\n",
    "#       \"property\": \"area_per_pixel_area\",\n",
    "#       \"aggregation_method\": \"sum\",\n",
    "#       \"resampling_method\": \"average\",\n",
    "#       \"val_range\": [\n",
    "#         0,\n",
    "#         1\n",
    "#       ],\n",
    "#       \"palette\": [\n",
    "#         \"#66339952\",\n",
    "#         \"#ffcc00\"\n",
    "#       ],\n",
    "#       \"nodata_val\": 0,\n",
    "#       \"nodata_color\": \"#ffffff00\"\n",
    "#     },\n",
    "#   ],\n",
    "#   \"deduplicate_at\": [\n",
    "#     \"staging\"\n",
    "#   ],\n",
    "#   \"deduplicate_keep_rules\": [\n",
    "#     [\n",
    "#       \"Date\",\n",
    "#       \"larger\"\n",
    "#     ]\n",
    "#   ],\n",
    "#   \"deduplicate_method\": \"footprints\"\n",
    "# }).stage_all()"
   ]
  },
  {
   "attachments": {},
   "cell_type": "markdown",
   "metadata": {},
   "source": [
    "IMPORT DATA:"
   ]
  },
  {
   "cell_type": "code",
   "execution_count": 3,
   "metadata": {},
   "outputs": [],
   "source": [
    "# russia subset processed in viz-workflow issue#19: check of clipping to footprint is working properly\n",
    "input_shp = \"/home/jcohen/iwp_workflow_testing/input/russia_subset/WV02_20100720235408_1030010006ABA200_10JUL20235408-M1BS-500152191020_01_P002_u16rf3413_pansh.shp\"\n",
    "footprint_filepath = \"/home/jcohen/iwp_workflow_testing/footprints/russia_subset/WV02_20100720235408_1030010006ABA200_10JUL20235408-M1BS-500152191020_01_P002_u16rf3413_pansh.shp\""
   ]
  },
  {
   "attachments": {},
   "cell_type": "markdown",
   "metadata": {},
   "source": [
    "CONFIGURE STAGER AND MANAGERS"
   ]
  },
  {
   "cell_type": "code",
   "execution_count": 4,
   "metadata": {},
   "outputs": [],
   "source": [
    "config = config.IWP_CONFIG\n",
    "stager = pdgstaging.TileStager(config = config)\n",
    "tile_manager = stager.tiles\n",
    "config_manager = stager.config"
   ]
  },
  {
   "attachments": {},
   "cell_type": "markdown",
   "metadata": {},
   "source": [
    "Modify the stager.stage() approach in order to integrate logging."
   ]
  },
  {
   "cell_type": "code",
   "execution_count": 5,
   "metadata": {},
   "outputs": [],
   "source": [
    "def custom_stage(path, config, logging_dict = logging_dict): \n",
    "    \"\"\"\n",
    "    Stage files (step 1)\n",
    "    \"\"\"\n",
    "    import pdgstaging\n",
    "    if logging_dict:\n",
    "        import logging.config\n",
    "        logging.config.dictConfig(logging_dict)\n",
    "    stager = pdgstaging.TileStager(config)\n",
    "    stager.stage(path)\n",
    "    return True"
   ]
  },
  {
   "attachments": {},
   "cell_type": "markdown",
   "metadata": {},
   "source": [
    "STAGE THE INPUT SHP FILE"
   ]
  },
  {
   "cell_type": "code",
   "execution_count": 6,
   "metadata": {},
   "outputs": [
    {
     "ename": "KeyboardInterrupt",
     "evalue": "",
     "output_type": "error",
     "traceback": [
      "\u001b[0;31m---------------------------------------------------------------------------\u001b[0m",
      "\u001b[0;31mKeyboardInterrupt\u001b[0m                         Traceback (most recent call last)",
      "Cell \u001b[0;32mIn[6], line 2\u001b[0m\n\u001b[1;32m      1\u001b[0m custom_stage(path \u001b[39m=\u001b[39m input_shp, config \u001b[39m=\u001b[39m config, logging_dict \u001b[39m=\u001b[39m logging_dict)\n\u001b[0;32m----> 2\u001b[0m stager\u001b[39m.\u001b[39;49mstage(path \u001b[39m=\u001b[39;49m input_shp)\n\u001b[1;32m      3\u001b[0m \u001b[39m# output files will have the staging_duplicated property\u001b[39;00m\n",
      "File \u001b[0;32m~/viz-staging/pdgstaging/TileStager.py:134\u001b[0m, in \u001b[0;36mTileStager.stage\u001b[0;34m(self, path)\u001b[0m\n\u001b[1;32m    132\u001b[0m     \u001b[39mself\u001b[39m\u001b[39m.\u001b[39mgrid \u001b[39m=\u001b[39m \u001b[39mself\u001b[39m\u001b[39m.\u001b[39mmake_tms_grid(gdf)\n\u001b[1;32m    133\u001b[0m     gdf \u001b[39m=\u001b[39m \u001b[39mself\u001b[39m\u001b[39m.\u001b[39madd_properties(gdf, path)\n\u001b[0;32m--> 134\u001b[0m     \u001b[39mself\u001b[39;49m\u001b[39m.\u001b[39;49msave_tiles(gdf)\n\u001b[1;32m    135\u001b[0m \u001b[39melse\u001b[39;00m:\n\u001b[1;32m    136\u001b[0m     logger\u001b[39m.\u001b[39mwarning(\u001b[39mf\u001b[39m\u001b[39m'\u001b[39m\u001b[39mNo features in \u001b[39m\u001b[39m{\u001b[39;00mpath\u001b[39m}\u001b[39;00m\u001b[39m'\u001b[39m)\n",
      "File \u001b[0;32m~/viz-staging/pdgstaging/TileStager.py:421\u001b[0m, in \u001b[0;36mTileStager.save_tiles\u001b[0;34m(self, gdf)\u001b[0m\n\u001b[1;32m    419\u001b[0m \u001b[39mwith\u001b[39;00m warnings\u001b[39m.\u001b[39mcatch_warnings():\n\u001b[1;32m    420\u001b[0m     warnings\u001b[39m.\u001b[39msimplefilter(\u001b[39m'\u001b[39m\u001b[39mignore\u001b[39m\u001b[39m'\u001b[39m, \u001b[39mFutureWarning\u001b[39;00m)\n\u001b[0;32m--> 421\u001b[0m     data\u001b[39m.\u001b[39;49mto_file(tile_path, mode\u001b[39m=\u001b[39;49mmode)\n\u001b[1;32m    423\u001b[0m \u001b[39m# convert each tile from string format to morecantile format \u001b[39;00m\n\u001b[1;32m    424\u001b[0m \u001b[39m# so it can be added to summary\u001b[39;00m\n\u001b[1;32m    425\u001b[0m \u001b[39m# first create series of tiles in str format\u001b[39;00m\n\u001b[1;32m    426\u001b[0m tiles_str \u001b[39m=\u001b[39m data[\u001b[39mself\u001b[39m\u001b[39m.\u001b[39mprops[\u001b[39m'\u001b[39m\u001b[39mtile\u001b[39m\u001b[39m'\u001b[39m]]\u001b[39m.\u001b[39mcopy()\n",
      "File \u001b[0;32m~/anaconda3/envs/arcade_layer/lib/python3.9/site-packages/geopandas/geodataframe.py:1203\u001b[0m, in \u001b[0;36mGeoDataFrame.to_file\u001b[0;34m(self, filename, driver, schema, index, **kwargs)\u001b[0m\n\u001b[1;32m   1120\u001b[0m \u001b[39m\u001b[39m\u001b[39m\"\"\"Write the ``GeoDataFrame`` to a file.\u001b[39;00m\n\u001b[1;32m   1121\u001b[0m \n\u001b[1;32m   1122\u001b[0m \u001b[39mBy default, an ESRI shapefile is written, but any OGR data source\u001b[39;00m\n\u001b[0;32m   (...)\u001b[0m\n\u001b[1;32m   1199\u001b[0m \u001b[39m>>> gdf.to_file('dataframe.shp', mode=\"a\")  # doctest: +SKIP\u001b[39;00m\n\u001b[1;32m   1200\u001b[0m \u001b[39m\"\"\"\u001b[39;00m\n\u001b[1;32m   1201\u001b[0m \u001b[39mfrom\u001b[39;00m \u001b[39mgeopandas\u001b[39;00m\u001b[39m.\u001b[39;00m\u001b[39mio\u001b[39;00m\u001b[39m.\u001b[39;00m\u001b[39mfile\u001b[39;00m \u001b[39mimport\u001b[39;00m _to_file\n\u001b[0;32m-> 1203\u001b[0m _to_file(\u001b[39mself\u001b[39;49m, filename, driver, schema, index, \u001b[39m*\u001b[39;49m\u001b[39m*\u001b[39;49mkwargs)\n",
      "File \u001b[0;32m~/anaconda3/envs/arcade_layer/lib/python3.9/site-packages/geopandas/io/file.py:545\u001b[0m, in \u001b[0;36m_to_file\u001b[0;34m(df, filename, driver, schema, index, mode, crs, engine, **kwargs)\u001b[0m\n\u001b[1;32m    538\u001b[0m     warnings\u001b[39m.\u001b[39mwarn(\n\u001b[1;32m    539\u001b[0m         \u001b[39m\"\u001b[39m\u001b[39mColumn names longer than 10 characters will be truncated when saved to \u001b[39m\u001b[39m\"\u001b[39m\n\u001b[1;32m    540\u001b[0m         \u001b[39m\"\u001b[39m\u001b[39mESRI Shapefile.\u001b[39m\u001b[39m\"\u001b[39m,\n\u001b[1;32m    541\u001b[0m         stacklevel\u001b[39m=\u001b[39m\u001b[39m3\u001b[39m,\n\u001b[1;32m    542\u001b[0m     )\n\u001b[1;32m    544\u001b[0m \u001b[39mif\u001b[39;00m engine \u001b[39m==\u001b[39m \u001b[39m\"\u001b[39m\u001b[39mfiona\u001b[39m\u001b[39m\"\u001b[39m:\n\u001b[0;32m--> 545\u001b[0m     _to_file_fiona(df, filename, driver, schema, crs, mode, \u001b[39m*\u001b[39;49m\u001b[39m*\u001b[39;49mkwargs)\n\u001b[1;32m    546\u001b[0m \u001b[39melif\u001b[39;00m engine \u001b[39m==\u001b[39m \u001b[39m\"\u001b[39m\u001b[39mpyogrio\u001b[39m\u001b[39m\"\u001b[39m:\n\u001b[1;32m    547\u001b[0m     _to_file_pyogrio(df, filename, driver, schema, crs, mode, \u001b[39m*\u001b[39m\u001b[39m*\u001b[39mkwargs)\n",
      "File \u001b[0;32m~/anaconda3/envs/arcade_layer/lib/python3.9/site-packages/geopandas/io/file.py:575\u001b[0m, in \u001b[0;36m_to_file_fiona\u001b[0;34m(df, filename, driver, schema, crs, mode, **kwargs)\u001b[0m\n\u001b[1;32m    571\u001b[0m     crs_wkt \u001b[39m=\u001b[39m crs\u001b[39m.\u001b[39mto_wkt(\u001b[39m\"\u001b[39m\u001b[39mWKT1_GDAL\u001b[39m\u001b[39m\"\u001b[39m)\n\u001b[1;32m    572\u001b[0m \u001b[39mwith\u001b[39;00m fiona\u001b[39m.\u001b[39mopen(\n\u001b[1;32m    573\u001b[0m     filename, mode\u001b[39m=\u001b[39mmode, driver\u001b[39m=\u001b[39mdriver, crs_wkt\u001b[39m=\u001b[39mcrs_wkt, schema\u001b[39m=\u001b[39mschema, \u001b[39m*\u001b[39m\u001b[39m*\u001b[39mkwargs\n\u001b[1;32m    574\u001b[0m ) \u001b[39mas\u001b[39;00m colxn:\n\u001b[0;32m--> 575\u001b[0m     colxn\u001b[39m.\u001b[39mwriterecords(df\u001b[39m.\u001b[39miterfeatures())\n",
      "File \u001b[0;32m~/anaconda3/envs/arcade_layer/lib/python3.9/site-packages/fiona/collection.py:689\u001b[0m, in \u001b[0;36mCollection.__exit__\u001b[0;34m(self, type, value, traceback)\u001b[0m\n\u001b[1;32m    687\u001b[0m \u001b[39mdef\u001b[39;00m \u001b[39m__exit__\u001b[39m(\u001b[39mself\u001b[39m, \u001b[39mtype\u001b[39m, value, traceback):\n\u001b[1;32m    688\u001b[0m     logging\u001b[39m.\u001b[39mgetLogger(\u001b[39m\"\u001b[39m\u001b[39mfiona.ogrext\u001b[39m\u001b[39m\"\u001b[39m)\u001b[39m.\u001b[39mremoveFilter(\u001b[39mself\u001b[39m\u001b[39m.\u001b[39mfield_skip_log_filter)\n\u001b[0;32m--> 689\u001b[0m     \u001b[39mself\u001b[39;49m\u001b[39m.\u001b[39;49mclose()\n",
      "File \u001b[0;32m~/anaconda3/envs/arcade_layer/lib/python3.9/site-packages/fiona/collection.py:666\u001b[0m, in \u001b[0;36mCollection.close\u001b[0;34m(self)\u001b[0m\n\u001b[1;32m    664\u001b[0m \u001b[39mif\u001b[39;00m \u001b[39mself\u001b[39m\u001b[39m.\u001b[39msession \u001b[39mis\u001b[39;00m \u001b[39mnot\u001b[39;00m \u001b[39mNone\u001b[39;00m \u001b[39mand\u001b[39;00m \u001b[39mself\u001b[39m\u001b[39m.\u001b[39msession\u001b[39m.\u001b[39misactive():\n\u001b[1;32m    665\u001b[0m     \u001b[39mif\u001b[39;00m \u001b[39mself\u001b[39m\u001b[39m.\u001b[39mmode \u001b[39min\u001b[39;00m (\u001b[39m\"\u001b[39m\u001b[39ma\u001b[39m\u001b[39m\"\u001b[39m, \u001b[39m\"\u001b[39m\u001b[39mw\u001b[39m\u001b[39m\"\u001b[39m):\n\u001b[0;32m--> 666\u001b[0m         \u001b[39mself\u001b[39;49m\u001b[39m.\u001b[39;49mflush()\n\u001b[1;32m    667\u001b[0m     log\u001b[39m.\u001b[39mdebug(\u001b[39m\"\u001b[39m\u001b[39mFlushed buffer\u001b[39m\u001b[39m\"\u001b[39m)\n\u001b[1;32m    668\u001b[0m     \u001b[39mself\u001b[39m\u001b[39m.\u001b[39msession\u001b[39m.\u001b[39mstop()\n",
      "File \u001b[0;32m~/anaconda3/envs/arcade_layer/lib/python3.9/site-packages/fiona/collection.py:656\u001b[0m, in \u001b[0;36mCollection.flush\u001b[0;34m(self)\u001b[0m\n\u001b[1;32m    654\u001b[0m \u001b[39m\u001b[39m\u001b[39m\"\"\"Flush the buffer.\"\"\"\u001b[39;00m\n\u001b[1;32m    655\u001b[0m \u001b[39mif\u001b[39;00m \u001b[39mself\u001b[39m\u001b[39m.\u001b[39msession \u001b[39mis\u001b[39;00m \u001b[39mnot\u001b[39;00m \u001b[39mNone\u001b[39;00m:\n\u001b[0;32m--> 656\u001b[0m     \u001b[39mself\u001b[39;49m\u001b[39m.\u001b[39;49msession\u001b[39m.\u001b[39;49msync(\u001b[39mself\u001b[39;49m)\n\u001b[1;32m    657\u001b[0m     new_len \u001b[39m=\u001b[39m \u001b[39mself\u001b[39m\u001b[39m.\u001b[39msession\u001b[39m.\u001b[39mget_length()\n\u001b[1;32m    658\u001b[0m     \u001b[39mself\u001b[39m\u001b[39m.\u001b[39m_len \u001b[39m=\u001b[39m new_len \u001b[39m>\u001b[39m \u001b[39mself\u001b[39m\u001b[39m.\u001b[39m_len \u001b[39mand\u001b[39;00m new_len \u001b[39mor\u001b[39;00m \u001b[39mself\u001b[39m\u001b[39m.\u001b[39m_len\n",
      "File \u001b[0;32mfiona/ogrext.pyx:1401\u001b[0m, in \u001b[0;36mfiona.ogrext.WritingSession.sync\u001b[0;34m()\u001b[0m\n",
      "File \u001b[0;32m~/anaconda3/envs/arcade_layer/lib/python3.9/logging/__init__.py:1424\u001b[0m, in \u001b[0;36mLogger.debug\u001b[0;34m(self, msg, *args, **kwargs)\u001b[0m\n\u001b[1;32m   1421\u001b[0m     \u001b[39mself\u001b[39m\u001b[39m.\u001b[39mlevel \u001b[39m=\u001b[39m _checkLevel(level)\n\u001b[1;32m   1422\u001b[0m     \u001b[39mself\u001b[39m\u001b[39m.\u001b[39mmanager\u001b[39m.\u001b[39m_clear_cache()\n\u001b[0;32m-> 1424\u001b[0m \u001b[39mdef\u001b[39;00m \u001b[39mdebug\u001b[39m(\u001b[39mself\u001b[39m, msg, \u001b[39m*\u001b[39margs, \u001b[39m*\u001b[39m\u001b[39m*\u001b[39mkwargs):\n\u001b[1;32m   1425\u001b[0m \u001b[39m    \u001b[39m\u001b[39m\"\"\"\u001b[39;00m\n\u001b[1;32m   1426\u001b[0m \u001b[39m    Log 'msg % args' with severity 'DEBUG'.\u001b[39;00m\n\u001b[1;32m   1427\u001b[0m \n\u001b[0;32m   (...)\u001b[0m\n\u001b[1;32m   1431\u001b[0m \u001b[39m    logger.debug(\"Houston, we have a %s\", \"thorny problem\", exc_info=1)\u001b[39;00m\n\u001b[1;32m   1432\u001b[0m \u001b[39m    \"\"\"\u001b[39;00m\n\u001b[1;32m   1433\u001b[0m     \u001b[39mif\u001b[39;00m \u001b[39mself\u001b[39m\u001b[39m.\u001b[39misEnabledFor(DEBUG):\n",
      "\u001b[0;31mKeyboardInterrupt\u001b[0m: "
     ]
    }
   ],
   "source": [
    "custom_stage(path = input_shp, config = config, logging_dict = logging_dict)\n",
    "#stager.stage(path = input_shp)\n",
    "# output files will have the staging_duplicated property"
   ]
  }
 ],
 "metadata": {
  "kernelspec": {
   "display_name": "arcade_layer",
   "language": "python",
   "name": "python3"
  },
  "language_info": {
   "codemirror_mode": {
    "name": "ipython",
    "version": 3
   },
   "file_extension": ".py",
   "mimetype": "text/x-python",
   "name": "python",
   "nbconvert_exporter": "python",
   "pygments_lexer": "ipython3",
   "version": "3.9.16"
  },
  "orig_nbformat": 4
 },
 "nbformat": 4,
 "nbformat_minor": 2
}
